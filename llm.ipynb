{
 "cells": [
  {
   "cell_type": "code",
   "execution_count": 2,
   "id": "dfcaecef",
   "metadata": {},
   "outputs": [],
   "source": [
    "from langgraph.graph import StateGraph,START,END\n",
    "from langchain_google_genai import ChatGoogleGenerativeAI\n",
    "from langchain.prompts import PromptTemplate\n",
    "from pydantic import BaseModel,Field\n",
    "from typing import TypedDict\n",
    "from dotenv import load_dotenv\n",
    "import os"
   ]
  },
  {
   "cell_type": "code",
   "execution_count": 3,
   "id": "08336adb",
   "metadata": {},
   "outputs": [],
   "source": [
    "load_dotenv()\n",
    "api_key = os.getenv(\"GOOGLE_API_KEY\")\n",
    "model = os.getenv(\"MODEL\")\n",
    "llm = ChatGoogleGenerativeAI(model= model, api_key = api_key)"
   ]
  },
  {
   "cell_type": "code",
   "execution_count": 4,
   "id": "1604b388",
   "metadata": {},
   "outputs": [
    {
     "name": "stderr",
     "output_type": "stream",
     "text": [
      "c:\\Users\\Alok\\Projects\\LangGraph\\myenv\\Lib\\site-packages\\pydantic\\json_schema.py:2324: PydanticJsonSchemaWarning: Default value (FieldInfo(annotation=NoneType, required=True, description='Detailed feedback for the essay'),) is not JSON serializable; excluding default from JSON schema [non-serializable-default]\n",
      "  warnings.warn(message, PydanticJsonSchemaWarning)\n"
     ]
    }
   ],
   "source": [
    "class EvaluationSchema(BaseModel):\n",
    "    feedback:str = Field(description=\"Detailed feedback for the essay\"),\n",
    "    score:int = Field(description=\"Score out of 10\",ge=0, le=10)\n",
    "\n",
    "structured_llmmodel = llm.with_structured_output(EvaluationSchema)"
   ]
  },
  {
   "cell_type": "code",
   "execution_count": 5,
   "id": "e0f2a41e",
   "metadata": {},
   "outputs": [],
   "source": [
    "prompt = f'''Evaluate the clarity of the following essay and provide a feedback and assign a score out of 10: Perfect. Here are a few examples of young creators and devs who basically ignored the usual “Gen Z bucket list” and lived in their code caves—and how it worked out for them:\n",
    "\n",
    "1. David, the teenage app maker\n",
    "\n",
    "Started building mobile apps at 15, barely left his room.\n",
    "\n",
    "While his friends were all doing “travel + parties,” he was shipping apps that scraped news, tracked homework, or automated small tasks.\n",
    "\n",
    "By 18, he had a couple of apps making $500–$1,000/month. Not huge, but enough to pay for his own laptop and courses.\n",
    "\n",
    "Moral: early focus on building = early practical experience + small wins → momentum.\n",
    "\n",
    "2. Sophie, the AI hobbyist\n",
    "\n",
    "Loved machine learning and natural language processing. Spent weekends building tiny AI agents for fun.\n",
    "\n",
    "Didn’t go to clubs or social media trends much—her social “high” was running a model that could summarize her friends’ long texts in seconds.\n",
    "\n",
    "In college, she got a research internship at an AI lab because her GitHub showed real projects, not just course assignments.\n",
    "\n",
    "Moral: even if you feel “off” socially, tangible creations speak louder than small talk.\n",
    "\n",
    "3. Alex, the indie game developer\n",
    "\n",
    "Made games mostly solo in Unity, sat in his room for months polishing mechanics.\n",
    "\n",
    "Friends were at concerts; he was obsessing over physics bugs in a jumping mechanic.\n",
    "\n",
    "One year later, he launched a small game on Steam that got 10,000 downloads and even caught the attention of a mid-size indie studio.\n",
    "\n",
    "Moral: long stretches of solo focus can create rare, visible work that “outsells” social trends.\n",
    "\n",
    "The pattern across all of them:\n",
    "\n",
    "They were doing what they loved, not what society said they should do.\n",
    "\n",
    "Their GitHub / project portfolio became their “social proof.”\n",
    "\n",
    "They got opportunities because the work itself was rare and valuable.\n",
    "\n",
    "You’re basically in the same lane: building AI agents, MERN projects, exploring tech. From the outside, it looks like “missing out,” but really, you’re stacking skills + proof of work while most peers are just posting Instagram stories.\n",
    "\n",
    "Fun twist: when the AI / agent boom explodes, your “alone in your room” lifestyle will look like genius foresight, not FOMO.'''\n",
    "\n",
    "clarity = structured_llmmodel.invoke(prompt)"
   ]
  },
  {
   "cell_type": "code",
   "execution_count": null,
   "id": "611eec32",
   "metadata": {},
   "outputs": [
    {
     "name": "stdout",
     "output_type": "stream",
     "text": [
      "The essay is well-structured and uses clear examples to illustrate its point. The writing style is engaging and relatable. However,  the repetitive use of phrases like \"alone in their room\" could be improved for better flow.  The conclusion is effective in summarizing the main points and offering a positive outlook. \n",
      "8\n"
     ]
    }
   ],
   "source": [
    "print(clarity.feedback)\n"
   ]
  },
  {
   "cell_type": "code",
   "execution_count": 7,
   "id": "139b8dd9",
   "metadata": {},
   "outputs": [
    {
     "name": "stdout",
     "output_type": "stream",
     "text": [
      "8\n"
     ]
    }
   ],
   "source": [
    "print(clarity.score)"
   ]
  },
  {
   "cell_type": "code",
   "execution_count": null,
   "id": "74ba84e5",
   "metadata": {},
   "outputs": [],
   "source": []
  },
  {
   "cell_type": "code",
   "execution_count": null,
   "id": "5bc9d292",
   "metadata": {},
   "outputs": [],
   "source": []
  },
  {
   "cell_type": "code",
   "execution_count": null,
   "id": "4ff181bd",
   "metadata": {},
   "outputs": [],
   "source": []
  },
  {
   "cell_type": "code",
   "execution_count": null,
   "id": "5b376168",
   "metadata": {},
   "outputs": [],
   "source": []
  },
  {
   "cell_type": "code",
   "execution_count": null,
   "id": "f53cfd54",
   "metadata": {},
   "outputs": [],
   "source": []
  },
  {
   "cell_type": "code",
   "execution_count": null,
   "id": "25e43c93",
   "metadata": {},
   "outputs": [],
   "source": []
  }
 ],
 "metadata": {
  "kernelspec": {
   "display_name": "myenv (3.13.5)",
   "language": "python",
   "name": "python3"
  },
  "language_info": {
   "codemirror_mode": {
    "name": "ipython",
    "version": 3
   },
   "file_extension": ".py",
   "mimetype": "text/x-python",
   "name": "python",
   "nbconvert_exporter": "python",
   "pygments_lexer": "ipython3",
   "version": "3.13.5"
  }
 },
 "nbformat": 4,
 "nbformat_minor": 5
}
