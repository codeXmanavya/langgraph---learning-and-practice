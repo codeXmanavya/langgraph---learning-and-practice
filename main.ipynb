{
 "cells": [
  {
   "cell_type": "code",
   "execution_count": 7,
   "id": "110bc256",
   "metadata": {},
   "outputs": [],
   "source": [
    "from langgraph.graph import StateGraph, START, END\n",
    "from typing import TypedDict"
   ]
  },
  {
   "cell_type": "code",
   "execution_count": 16,
   "id": "447747cd",
   "metadata": {},
   "outputs": [],
   "source": [
    "#define state\n",
    "class BMIState(TypedDict):\n",
    "    weight_kg: float\n",
    "    height_m: float\n",
    "    bmi: float\n",
    "    category: str"
   ]
  },
  {
   "cell_type": "code",
   "execution_count": 5,
   "id": "203c5b15",
   "metadata": {},
   "outputs": [],
   "source": [
    "def bmi_calculator(state:BMIState)-> BMIState:\n",
    "    weight = state['weight_kg']\n",
    "    height = state['height_m']\n",
    "    bmi = weight /(height**2)\n",
    "    state['bmi'] = round(bmi,2)\n",
    "    return state"
   ]
  },
  {
   "cell_type": "code",
   "execution_count": 23,
   "id": "283896c0",
   "metadata": {},
   "outputs": [],
   "source": [
    "def label_bmi(state:BMIState)-> BMIState:\n",
    "    bmi = state['bmi']\n",
    "    if bmi<18.5:\n",
    "        state['category'] = 'underweight'\n",
    "        \n",
    "    elif bmi<24.9:\n",
    "        state['category'] = 'healthy'\n",
    "        \n",
    "    elif bmi<29.9:\n",
    "        state['category'] = 'overweight'\n",
    "        \n",
    "    else:\n",
    "        state['category'] = 'obesity'\n",
    "    \n",
    "    return state\n"
   ]
  },
  {
   "cell_type": "code",
   "execution_count": 25,
   "id": "c688b574",
   "metadata": {},
   "outputs": [],
   "source": [
    "#define graph\n",
    "graph = StateGraph(BMIState)\n",
    "\n",
    "#add nodes to your graph\n",
    "graph.add_node('bmi_calculator',bmi_calculator)\n",
    "graph.add_node('label_bmi',label_bmi)\n",
    "\n",
    "#add edges to your graph\n",
    "graph.add_edge(START,'bmi_calculator')\n",
    "graph.add_edge('bmi_calculator','label_bmi')\n",
    "graph.add_edge('label_bmi', END)\n",
    "\n",
    "#compile the graph\n",
    "workflow = graph.compile()\n"
   ]
  },
  {
   "cell_type": "code",
   "execution_count": 31,
   "id": "00a1ec8a",
   "metadata": {},
   "outputs": [
    {
     "name": "stdout",
     "output_type": "stream",
     "text": [
      "{'weight_kg': 89, 'height_m': 1.9, 'bmi': 24.65, 'category': 'healthy'}\n"
     ]
    }
   ],
   "source": [
    "#execute the graph\n",
    "initial_state = {'weight_kg':89,'height_m':1.9}\n",
    "final_state = workflow.invoke(initial_state)\n",
    "print(final_state)"
   ]
  },
  {
   "cell_type": "code",
   "execution_count": 32,
   "id": "530614fb",
   "metadata": {},
   "outputs": [
    {
     "data": {
      "image/png": "[encoded data removed]",
      "text/plain": [
       "<IPython.core.display.Image object>"
      ]
     },
     "execution_count": 32,
     "metadata": {},
     "output_type": "execute_result"
    }
   ],
   "source": [
    "from IPython.display import Image\n",
    "Image(workflow.get_graph().draw_mermaid_png())"
   ]
  },
  {
   "cell_type": "code",
   "execution_count": null,
   "id": "ec256b0b",
   "metadata": {},
   "outputs": [],
   "source": []
  }
 ],
 "metadata": {
  "kernelspec": {
   "display_name": "myenv (3.13.5)",
   "language": "python",
   "name": "python3"
  },
  "language_info": {
   "codemirror_mode": {
    "name": "ipython",
    "version": 3
   },
   "file_extension": ".py",
   "mimetype": "text/x-python",
   "name": "python",
   "nbconvert_exporter": "python",
   "pygments_lexer": "ipython3",
   "version": "3.13.5"
  }
 },
 "nbformat": 4,
 "nbformat_minor": 5
}
